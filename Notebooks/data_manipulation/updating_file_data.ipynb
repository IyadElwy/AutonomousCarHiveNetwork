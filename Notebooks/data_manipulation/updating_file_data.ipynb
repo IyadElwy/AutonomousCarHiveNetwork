{
 "cells": [
  {
   "cell_type": "code",
   "execution_count": 1,
   "metadata": {
    "collapsed": true
   },
   "outputs": [],
   "source": [
    "import pandas as pd\n",
    "import os"
   ]
  },
  {
   "cell_type": "code",
   "execution_count": 2,
   "outputs": [],
   "source": [
    "for test_dir in os.listdir('../data'):\n",
    "    len_of_images = len([int(f.split('.')[0]) for f in os.listdir(f'../data/{test_dir}') if f != 'steering.csv'])\n",
    "    df = pd.read_csv(f'../data/{test_dir}/steering.csv', header=None)\n",
    "    df = df.iloc[:len_of_images, :]\n",
    "    df.to_csv(f'../data/{test_dir}/steering.csv')\n"
   ],
   "metadata": {
    "collapsed": false,
    "pycharm": {
     "name": "#%%\n"
    }
   }
  },
  {
   "cell_type": "code",
   "execution_count": null,
   "outputs": [],
   "source": [],
   "metadata": {
    "collapsed": false,
    "pycharm": {
     "name": "#%%\n"
    }
   }
  }
 ],
 "metadata": {
  "kernelspec": {
   "display_name": "Python 3",
   "language": "python",
   "name": "python3"
  },
  "language_info": {
   "codemirror_mode": {
    "name": "ipython",
    "version": 2
   },
   "file_extension": ".py",
   "mimetype": "text/x-python",
   "name": "python",
   "nbconvert_exporter": "python",
   "pygments_lexer": "ipython2",
   "version": "2.7.6"
  }
 },
 "nbformat": 4,
 "nbformat_minor": 0
}